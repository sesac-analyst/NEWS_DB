{
 "cells": [
  {
   "cell_type": "code",
   "execution_count": 120,
   "metadata": {},
   "outputs": [],
   "source": [
    "import pymysql"
   ]
  },
  {
   "cell_type": "code",
   "execution_count": 121,
   "metadata": {},
   "outputs": [],
   "source": [
    "conn = pymysql.connect(\n",
    "    host='localhost', \n",
    "    port=3306, \n",
    "    user='root', \n",
    "    passwd='toor', \n",
    "    db='news_db_team', \n",
    "    charset='utf8mb4'\n",
    ")"
   ]
  },
  {
   "cell_type": "code",
   "execution_count": 122,
   "metadata": {},
   "outputs": [],
   "source": [
    "cursor = conn.cursor()"
   ]
  },
  {
   "cell_type": "code",
   "execution_count": 123,
   "metadata": {},
   "outputs": [],
   "source": [
    "mk_db = '''\n",
    "CREATE DATABASE IF NOT EXISTS NEWS_DB CHARACTER SET utf8mb4 COLLATE utf8mb4_unicode_ci;\n",
    "'''\n",
    "\n",
    "use_db = '''\n",
    "USE NEWS_DB;\n",
    "'''"
   ]
  },
  {
   "cell_type": "code",
   "execution_count": 124,
   "metadata": {},
   "outputs": [],
   "source": [
    "cursor.execute(mk_db)\n",
    "cursor.execute(use_db)\n",
    "conn.commit()"
   ]
  },
  {
   "cell_type": "code",
   "execution_count": 95,
   "metadata": {},
   "outputs": [],
   "source": [
    "# platform\n",
    "mk_platform_table = \"\"\"\n",
    "CREATE TABLE IF NOT EXISTS tbr_platform (\n",
    "    id TINYINT UNSIGNED NOT NULL AUTO_INCREMENT,\n",
    "    name VARCHAR(10) NULL,\n",
    "    PRIMARY KEY (id)\n",
    ")DEFAULT CHARSET=utf8mb4;\n",
    "\"\"\""
   ]
  },
  {
   "cell_type": "code",
   "execution_count": 96,
   "metadata": {},
   "outputs": [],
   "source": [
    "cursor.execute(mk_platform_table)\n",
    "conn.commit()"
   ]
  },
  {
   "cell_type": "code",
   "execution_count": 97,
   "metadata": {},
   "outputs": [],
   "source": [
    "# category\n",
    "mk_category_table = \"\"\"\n",
    "CREATE TABLE IF NOT EXISTS tbr_category (\n",
    "    id INT UNSIGNED NOT NULL AUTO_INCREMENT,\n",
    "    name VARCHAR(10) NULL,\n",
    "    PRIMARY KEY (id)\n",
    ")DEFAULT CHARSET=utf8mb4;\n",
    "\"\"\""
   ]
  },
  {
   "cell_type": "code",
   "execution_count": 98,
   "metadata": {},
   "outputs": [],
   "source": [
    "cursor.execute(mk_category_table)\n",
    "conn.commit()"
   ]
  },
  {
   "cell_type": "code",
   "execution_count": 99,
   "metadata": {},
   "outputs": [],
   "source": [
    "# publisher\n",
    "mk_publisher_table = \"\"\"\n",
    "CREATE TABLE IF NOT EXISTS tbr_publisher (\n",
    "    id INT UNSIGNED NOT NULL AUTO_INCREMENT,\n",
    "    name VARCHAR(8) NULL,\n",
    "    PRIMARY KEY (id)\n",
    ")DEFAULT CHARSET=utf8mb4;\n",
    "\"\"\""
   ]
  },
  {
   "cell_type": "code",
   "execution_count": 100,
   "metadata": {},
   "outputs": [],
   "source": [
    "cursor.execute(mk_publisher_table)\n",
    "conn.commit()"
   ]
  },
  {
   "cell_type": "code",
   "execution_count": 131,
   "metadata": {},
   "outputs": [],
   "source": [
    "# user\n",
    "mk_user_table = '''\n",
    "CREATE TABLE IF NOT EXISTS tbr_user (\n",
    "    id INT UNSIGNED NOT NULL AUTO_INCREMENT,\n",
    "    user_unique VARCHAR(5) UNIQUE NOT NULL,\n",
    "    PRIMARY KEY (id)\n",
    ")DEFAULT CHARSET=utf8mb4;\n",
    "'''"
   ]
  },
  {
   "cell_type": "code",
   "execution_count": 132,
   "metadata": {},
   "outputs": [],
   "source": [
    "cursor.execute(mk_user_table)\n",
    "conn.commit()"
   ]
  },
  {
   "cell_type": "code",
   "execution_count": 125,
   "metadata": {},
   "outputs": [],
   "source": [
    "# articles\n",
    "mk_article_table = \"\"\"\n",
    "CREATE TABLE IF NOT EXISTS tbr_article (\n",
    "    id INT UNSIGNED NOT NULL AUTO_INCREMENT,\n",
    "    platform_id TINYINT UNSIGNED NOT NULL,\n",
    "    category_id INT UNSIGNED NOT NULL,\n",
    "    publisher_id INT UNSIGNED NOT NULL,\n",
    "    title VARCHAR(128) NULL,\n",
    "    content TEXT NOT NULL,\n",
    "    author VARCHAR(50) NULL,\n",
    "    publication_date DATETIME NULL,\n",
    "    update_date DATETIME NULL,\n",
    "    article_url VARCHAR(255) UNIQUE NOT NULL,\n",
    "    PRIMARY KEY (id),\n",
    "    FOREIGN KEY (platform_id) REFERENCES tbr_platform(id),\n",
    "    FOREIGN KEY (category_id) REFERENCES tbr_category(id),\n",
    "    FOREIGN KEY (publisher_id) REFERENCES tbr_publisher(id)\n",
    ")DEFAULT CHARSET=utf8mb4;\n",
    "\"\"\""
   ]
  },
  {
   "cell_type": "code",
   "execution_count": 126,
   "metadata": {},
   "outputs": [],
   "source": [
    "cursor.execute(mk_article_table)\n",
    "conn.commit()"
   ]
  },
  {
   "cell_type": "code",
   "execution_count": 127,
   "metadata": {},
   "outputs": [],
   "source": [
    "# comment\n",
    "mk_comment_table = \"\"\"\n",
    "CREATE TABLE IF NOT EXISTS tbr_comment(\n",
    "    id INT UNSIGNED NOT NULL AUTO_INCREMENT,\n",
    "    article_id INT UNSIGNED NOT NULL,\n",
    "    user_id INT UNSIGNED NOT NULL,\n",
    "    content VARCHAR(500) NULL,\n",
    "    comment_date DATETIME NULL,\n",
    "    update_date DATETIME NULL,\n",
    "    PRIMARY KEY (id),\n",
    "    FOREIGN KEY (article_id) REFERENCES tbr_article(id)\n",
    ")DEFAULT CHARSET=utf8mb4;\n",
    "\"\"\""
   ]
  },
  {
   "cell_type": "code",
   "execution_count": 128,
   "metadata": {},
   "outputs": [],
   "source": [
    "cursor.execute(mk_comment_table)\n",
    "conn.commit()"
   ]
  },
  {
   "cell_type": "code",
   "execution_count": 129,
   "metadata": {},
   "outputs": [],
   "source": [
    "# sitcker\n",
    "mk_stk_table = \"\"\"\n",
    "CREATE TABLE IF NOT EXISTS tbr_sticker(\n",
    "    id INT UNSIGNED NOT NULL AUTO_INCREMENT,\n",
    "    stk1_name VARCHAR(8) NULL,\n",
    "    stk1_count SMALLINT NULL,\n",
    "    stk2_name VARCHAR(8) NULL,\n",
    "    stk2_count SMALLINT NULL,\n",
    "    stk3_name VARCHAR(8) NULL,\n",
    "    stk3_count SMALLINT NULL,\n",
    "    stk4_name VARCHAR(8) NULL,\n",
    "    stk4_count SMALLINT NULL,\n",
    "    stk5_name VARCHAR(8) NULL,\n",
    "    stk5_count SMALLINT NULL,\n",
    "    PRIMARY KEY (id),\n",
    "    FOREIGN KEY (id) REFERENCES tbr_article(id)\n",
    ")DEFAULT CHARSET=utf8mb4;\n",
    "\"\"\""
   ]
  },
  {
   "cell_type": "code",
   "execution_count": 130,
   "metadata": {},
   "outputs": [],
   "source": [
    "cursor.execute(mk_stk_table)\n",
    "conn.commit()"
   ]
  },
  {
   "cell_type": "code",
   "execution_count": 109,
   "metadata": {},
   "outputs": [],
   "source": [
    "conn.close()"
   ]
  },
  {
   "cell_type": "code",
   "execution_count": null,
   "metadata": {},
   "outputs": [],
   "source": []
  }
 ],
 "metadata": {
  "kernelspec": {
   "display_name": "project",
   "language": "python",
   "name": "python3"
  },
  "language_info": {
   "codemirror_mode": {
    "name": "ipython",
    "version": 3
   },
   "file_extension": ".py",
   "mimetype": "text/x-python",
   "name": "python",
   "nbconvert_exporter": "python",
   "pygments_lexer": "ipython3",
   "version": "3.11.9"
  }
 },
 "nbformat": 4,
 "nbformat_minor": 2
}
