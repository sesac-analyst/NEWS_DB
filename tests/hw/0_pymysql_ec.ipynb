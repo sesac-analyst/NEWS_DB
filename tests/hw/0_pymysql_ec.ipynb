{
 "cells": [
  {
   "cell_type": "code",
   "execution_count": 1,
   "metadata": {},
   "outputs": [],
   "source": [
    "import pymysql"
   ]
  },
  {
   "cell_type": "code",
   "execution_count": 2,
   "metadata": {},
   "outputs": [],
   "source": [
    "conn = pymysql.connect(\n",
    "    host='localhost', \n",
    "    port=3306, \n",
    "    user='root', \n",
    "    passwd='toor', \n",
    "    db='news_db_team', \n",
    "    charset='utf8mb4'\n",
    ")"
   ]
  },
  {
   "cell_type": "code",
   "execution_count": 3,
   "metadata": {},
   "outputs": [],
   "source": [
    "import pandas as pd"
   ]
  },
  {
   "cell_type": "code",
   "execution_count": 4,
   "metadata": {},
   "outputs": [],
   "source": [
    "df = pd.read_excel(\"test_news.xlsx\")"
   ]
  },
  {
   "cell_type": "code",
   "execution_count": 5,
   "metadata": {},
   "outputs": [],
   "source": [
    "cursor = conn.cursor()"
   ]
  },
  {
   "cell_type": "markdown",
   "metadata": {},
   "source": [
    "# 테이블 생성"
   ]
  },
  {
   "cell_type": "code",
   "execution_count": 6,
   "metadata": {},
   "outputs": [],
   "source": [
    "# articles\n",
    "mk_platform_table = \"\"\"\n",
    "CREATE TABLE IF NOT EXISTS tbr_platform (\n",
    "    id TINYINT UNSIGNED NOT NULL AUTO_INCREMENT,\n",
    "    name VARCHAR(10) NULL,\n",
    "    PRIMARY KEY (id)\n",
    ")DEFAULT CHARSET=utf8mb4;\n",
    "\"\"\""
   ]
  },
  {
   "cell_type": "markdown",
   "metadata": {},
   "source": [
    "데이터베이스도 바꿔줘야함\n",
    "\n",
    "-- 데이터베이스의 문자셋 확인\n",
    "SHOW VARIABLES LIKE 'character_set_database';\n",
    "\n",
    "-- 데이터베이스 문자셋을 utf8mb4로 변경\n",
    "ALTER DATABASE your_database_name CHARACTER SET = utf8mb4 COLLATE = utf8mb4_unicode_ci;"
   ]
  },
  {
   "cell_type": "code",
   "execution_count": 7,
   "metadata": {},
   "outputs": [],
   "source": [
    "cursor.execute(mk_platform_table)\n",
    "conn.commit()"
   ]
  },
  {
   "cell_type": "code",
   "execution_count": 8,
   "metadata": {},
   "outputs": [
    {
     "data": {
      "text/html": [
       "<div>\n",
       "<style scoped>\n",
       "    .dataframe tbody tr th:only-of-type {\n",
       "        vertical-align: middle;\n",
       "    }\n",
       "\n",
       "    .dataframe tbody tr th {\n",
       "        vertical-align: top;\n",
       "    }\n",
       "\n",
       "    .dataframe thead th {\n",
       "        text-align: right;\n",
       "    }\n",
       "</style>\n",
       "<table border=\"1\" class=\"dataframe\">\n",
       "  <thead>\n",
       "    <tr style=\"text-align: right;\">\n",
       "      <th></th>\n",
       "      <th>Unnamed: 0</th>\n",
       "      <th>title</th>\n",
       "      <th>content</th>\n",
       "      <th>author</th>\n",
       "      <th>publication_date</th>\n",
       "      <th>article_url</th>\n",
       "    </tr>\n",
       "  </thead>\n",
       "  <tbody>\n",
       "    <tr>\n",
       "      <th>0</th>\n",
       "      <td>0</td>\n",
       "      <td>제목1</td>\n",
       "      <td>내용1</td>\n",
       "      <td>작성자1</td>\n",
       "      <td>2024-05-27 18:00:30</td>\n",
       "      <td>https://naver.com/123</td>\n",
       "    </tr>\n",
       "    <tr>\n",
       "      <th>1</th>\n",
       "      <td>1</td>\n",
       "      <td>제목2</td>\n",
       "      <td>내용2</td>\n",
       "      <td>작성자2</td>\n",
       "      <td>2024-05-27 18:10:30</td>\n",
       "      <td>https://naver.com/124</td>\n",
       "    </tr>\n",
       "    <tr>\n",
       "      <th>2</th>\n",
       "      <td>2</td>\n",
       "      <td>제목3</td>\n",
       "      <td>내용3</td>\n",
       "      <td>작성자3</td>\n",
       "      <td>2024-05-27 18:30:30</td>\n",
       "      <td>https://naver.com/125</td>\n",
       "    </tr>\n",
       "    <tr>\n",
       "      <th>3</th>\n",
       "      <td>3</td>\n",
       "      <td>제목4</td>\n",
       "      <td>내용5</td>\n",
       "      <td>작성자6</td>\n",
       "      <td>2024-05-27 18:40:30</td>\n",
       "      <td>https://naver.com/126</td>\n",
       "    </tr>\n",
       "  </tbody>\n",
       "</table>\n",
       "</div>"
      ],
      "text/plain": [
       "   Unnamed: 0 title content author     publication_date            article_url\n",
       "0           0   제목1     내용1   작성자1  2024-05-27 18:00:30  https://naver.com/123\n",
       "1           1   제목2     내용2   작성자2  2024-05-27 18:10:30  https://naver.com/124\n",
       "2           2   제목3     내용3   작성자3  2024-05-27 18:30:30  https://naver.com/125\n",
       "3           3   제목4     내용5   작성자6  2024-05-27 18:40:30  https://naver.com/126"
      ]
     },
     "execution_count": 8,
     "metadata": {},
     "output_type": "execute_result"
    }
   ],
   "source": [
    "df"
   ]
  },
  {
   "cell_type": "code",
   "execution_count": 9,
   "metadata": {},
   "outputs": [],
   "source": [
    "df = df.drop(\"Unnamed: 0\", axis = 1)"
   ]
  },
  {
   "cell_type": "code",
   "execution_count": 10,
   "metadata": {},
   "outputs": [
    {
     "data": {
      "text/html": [
       "<div>\n",
       "<style scoped>\n",
       "    .dataframe tbody tr th:only-of-type {\n",
       "        vertical-align: middle;\n",
       "    }\n",
       "\n",
       "    .dataframe tbody tr th {\n",
       "        vertical-align: top;\n",
       "    }\n",
       "\n",
       "    .dataframe thead th {\n",
       "        text-align: right;\n",
       "    }\n",
       "</style>\n",
       "<table border=\"1\" class=\"dataframe\">\n",
       "  <thead>\n",
       "    <tr style=\"text-align: right;\">\n",
       "      <th></th>\n",
       "      <th>title</th>\n",
       "      <th>content</th>\n",
       "      <th>author</th>\n",
       "      <th>publication_date</th>\n",
       "      <th>article_url</th>\n",
       "    </tr>\n",
       "  </thead>\n",
       "  <tbody>\n",
       "    <tr>\n",
       "      <th>0</th>\n",
       "      <td>제목1</td>\n",
       "      <td>내용1</td>\n",
       "      <td>작성자1</td>\n",
       "      <td>2024-05-27 18:00:30</td>\n",
       "      <td>https://naver.com/123</td>\n",
       "    </tr>\n",
       "    <tr>\n",
       "      <th>1</th>\n",
       "      <td>제목2</td>\n",
       "      <td>내용2</td>\n",
       "      <td>작성자2</td>\n",
       "      <td>2024-05-27 18:10:30</td>\n",
       "      <td>https://naver.com/124</td>\n",
       "    </tr>\n",
       "    <tr>\n",
       "      <th>2</th>\n",
       "      <td>제목3</td>\n",
       "      <td>내용3</td>\n",
       "      <td>작성자3</td>\n",
       "      <td>2024-05-27 18:30:30</td>\n",
       "      <td>https://naver.com/125</td>\n",
       "    </tr>\n",
       "    <tr>\n",
       "      <th>3</th>\n",
       "      <td>제목4</td>\n",
       "      <td>내용5</td>\n",
       "      <td>작성자6</td>\n",
       "      <td>2024-05-27 18:40:30</td>\n",
       "      <td>https://naver.com/126</td>\n",
       "    </tr>\n",
       "  </tbody>\n",
       "</table>\n",
       "</div>"
      ],
      "text/plain": [
       "  title content author     publication_date            article_url\n",
       "0   제목1     내용1   작성자1  2024-05-27 18:00:30  https://naver.com/123\n",
       "1   제목2     내용2   작성자2  2024-05-27 18:10:30  https://naver.com/124\n",
       "2   제목3     내용3   작성자3  2024-05-27 18:30:30  https://naver.com/125\n",
       "3   제목4     내용5   작성자6  2024-05-27 18:40:30  https://naver.com/126"
      ]
     },
     "execution_count": 10,
     "metadata": {},
     "output_type": "execute_result"
    }
   ],
   "source": [
    "df"
   ]
  },
  {
   "cell_type": "code",
   "execution_count": 11,
   "metadata": {},
   "outputs": [
    {
     "name": "stdout",
     "output_type": "stream",
     "text": [
      "('제목1', '내용1', '작성자1', '2024-05-27 18:00:30', 'https://naver.com/123')\n",
      "('제목2', '내용2', '작성자2', '2024-05-27 18:10:30', 'https://naver.com/124')\n",
      "('제목3', '내용3', '작성자3', '2024-05-27 18:30:30', 'https://naver.com/125')\n",
      "('제목4', '내용5', '작성자6', '2024-05-27 18:40:30', 'https://naver.com/126')\n"
     ]
    }
   ],
   "source": [
    "sql = 'INSERT INTO NEWS (title, content, author, publication_date, article_url) VALUES (%s, %s, %s, %s, %s)'\n",
    "for idx in range(len(df)):\n",
    "    print(tuple(df.iloc[idx]))\n",
    "    cursor.execute(sql, tuple(df.iloc[idx]))\n",
    "conn.commit()"
   ]
  },
  {
   "cell_type": "code",
   "execution_count": 12,
   "metadata": {},
   "outputs": [],
   "source": [
    "#categories\n",
    "mk_categories_table = \"\"\"\n",
    "CREATE TABLE IF NOT EXISTS CATEGORIES (\n",
    "    id INT UNSIGNED NOT NULL AUTO_INCREMENT,\n",
    "    category_name VARCHAR(8) NOT NULL,\n",
    "    PRIMARY KEY (id)\n",
    ")DEFAULT CHARSET=utf8;\n",
    "\"\"\""
   ]
  },
  {
   "cell_type": "code",
   "execution_count": 13,
   "metadata": {},
   "outputs": [],
   "source": [
    "cursor.execute(mk_categories_table)\n",
    "conn.commit()"
   ]
  },
  {
   "cell_type": "code",
   "execution_count": 14,
   "metadata": {},
   "outputs": [],
   "source": [
    "# publisher\n",
    "mk_publisher_table = \"\"\"\n",
    "CREATE TABLE IF NOT EXISTS publisher (\n",
    "    id INT UNSIGNED NOT NULL AUTO_INCREMENT,\n",
    "    pub_name VARCHAR(8) NOT NULL,\n",
    "    PRIMARY KEY (id)\n",
    ")DEFAULT CHARSET=utf8;\n",
    "\"\"\""
   ]
  },
  {
   "cell_type": "code",
   "execution_count": 15,
   "metadata": {},
   "outputs": [],
   "source": [
    "cursor.execute(mk_publisher_table)\n",
    "conn.commit()"
   ]
  },
  {
   "cell_type": "code",
   "execution_count": 16,
   "metadata": {},
   "outputs": [],
   "source": [
    "# platform\n",
    "mk_platform_table = \"\"\"\n",
    "CREATE TABLE IF NOT EXISTS platform (\n",
    "    id INT UNSIGNED NOT NULL AUTO_INCREMENT,\n",
    "    platform_name VARCHAR(8) NOT NULL,\n",
    "    PRIMARY KEY (id)\n",
    ")DEFAULT CHARSET=utf8;\n",
    "\"\"\""
   ]
  },
  {
   "cell_type": "code",
   "execution_count": 17,
   "metadata": {},
   "outputs": [],
   "source": [
    "cursor.execute(mk_platform_table)\n",
    "conn.commit()"
   ]
  },
  {
   "cell_type": "code",
   "execution_count": 18,
   "metadata": {},
   "outputs": [],
   "source": [
    "# users\n",
    "mk_users_table = \"\"\"\n",
    "CREATE TABLE IF NOT EXISTS users (\n",
    "    id INT UNSIGNED NOT NULL AUTO_INCREMENT,\n",
    "    user_code VARCHAR(8) NOT NULL,\n",
    "    user_name VARCHAR(16) NOT NULL,\n",
    "    PRIMARY KEY (id)\n",
    ")DEFAULT CHARSET=utf8;\n",
    "\"\"\""
   ]
  },
  {
   "cell_type": "code",
   "execution_count": 19,
   "metadata": {},
   "outputs": [],
   "source": [
    "cursor.execute(mk_users_table)\n",
    "conn.commit()"
   ]
  },
  {
   "cell_type": "code",
   "execution_count": 20,
   "metadata": {},
   "outputs": [],
   "source": [
    "# comment\n",
    "mk_comment_table = \"\"\"\n",
    "CREATE TABLE IF NOT EXISTS comment (\n",
    "    id INT UNSIGNED NOT NULL AUTO_INCREMENT,\n",
    "    user_id INT UNSIGNED NOT NULL,\n",
    "    comt LONGBLOB NOT NULL,\n",
    "    date DATETIME NOT NULL,\n",
    "    news_id INT UNSIGNED NOT NULL,\n",
    "    PRIMARY KEY (id),\n",
    "    FOREIGN KEY (user_id) REFERENCES users(id),\n",
    "    FOREIGN KEY (news_id) REFERENCES news(news_id)\n",
    ")DEFAULT CHARSET=utf8;\n",
    "\"\"\""
   ]
  },
  {
   "cell_type": "code",
   "execution_count": 21,
   "metadata": {},
   "outputs": [],
   "source": [
    "cursor.execute(mk_comment_table)\n",
    "conn.commit()"
   ]
  },
  {
   "cell_type": "markdown",
   "metadata": {},
   "source": [
    "FOREIGN KEY (`자식테이블에서의 컬럼명`) REFERENCES `부모테이블` (`부모테이블에서의 컬럼명`);"
   ]
  },
  {
   "cell_type": "code",
   "execution_count": null,
   "metadata": {},
   "outputs": [],
   "source": [
    "ALTER TABLE `articles`\n",
    "ADD CONSTRAINT `FK_publisher(부모)_TO_articles(자식)_1`\n",
    "FOREIGN KEY (`pub_id`) \n",
    "REFERENCES `publisher` (`id`);\n"
   ]
  },
  {
   "cell_type": "markdown",
   "metadata": {},
   "source": [
    "# INSERT 함수"
   ]
  },
  {
   "cell_type": "code",
   "execution_count": 29,
   "metadata": {},
   "outputs": [],
   "source": [
    "insert_news_data = \"\"\"\n",
    "INSERT INTO NEWS (title, content, author, publication_date, article_url) VALUES\n",
    "(%s, %s, %s, %s, %s);\n",
    "\"\"\""
   ]
  },
  {
   "cell_type": "code",
   "execution_count": 33,
   "metadata": {},
   "outputs": [],
   "source": [
    "news_data = [('제목5', '내용5',\t'작성자5','2024-05-29 18:00:30', 'https://naver.com/854')]"
   ]
  },
  {
   "cell_type": "code",
   "execution_count": 35,
   "metadata": {},
   "outputs": [],
   "source": [
    "cursor.executemany(insert_news_data, news_data)\n",
    "conn.commit()"
   ]
  },
  {
   "cell_type": "code",
   "execution_count": 37,
   "metadata": {},
   "outputs": [],
   "source": [
    "def insert_news_data(news_data) :\n",
    "    insert_news_data = \"\"\"INSERT INTO NEWS (title, content, author, publication_date, article_url) VALUES(%s, %s, %s, %s, %s);\"\"\"\n",
    "    cursor.executemany(insert_news_data, news_data)\n",
    "    conn.commit()"
   ]
  },
  {
   "cell_type": "code",
   "execution_count": 38,
   "metadata": {},
   "outputs": [],
   "source": [
    "news_data_try = [('제목6', '내용6',\t'작성자6','2024-05-29 18:00:30', 'https://naver.com/854')]"
   ]
  },
  {
   "cell_type": "code",
   "execution_count": 39,
   "metadata": {},
   "outputs": [],
   "source": [
    "insert_news_data(news_data_try)"
   ]
  },
  {
   "cell_type": "markdown",
   "metadata": {},
   "source": [
    "# SELECT 함수"
   ]
  },
  {
   "cell_type": "code",
   "execution_count": 50,
   "metadata": {},
   "outputs": [
    {
     "name": "stdout",
     "output_type": "stream",
     "text": [
      "('제목1',)\n",
      "('제목2',)\n",
      "('제목3',)\n",
      "('제목4',)\n",
      "('제목5',)\n",
      "('제목5',)\n",
      "('제목6',)\n",
      "('제목1',)\n",
      "('제목2',)\n",
      "('제목3',)\n",
      "('제목4',)\n"
     ]
    }
   ],
   "source": [
    "sql_select = \"SELECT title FROM NEWS\"\n",
    "cursor.execute(sql_select)\n",
    "rows = cursor.fetchall()\n",
    "for row in rows:\n",
    "    print(row)"
   ]
  },
  {
   "cell_type": "code",
   "execution_count": 53,
   "metadata": {},
   "outputs": [],
   "source": [
    "def select_news(watch) :\n",
    "    sql_select = f\"SELECT {watch} FROM NEWS\"\n",
    "    cursor.execute(sql_select)\n",
    "    rows = cursor.fetchall()\n",
    "    for row in rows:\n",
    "        print(row)"
   ]
  },
  {
   "cell_type": "code",
   "execution_count": 54,
   "metadata": {},
   "outputs": [
    {
     "name": "stdout",
     "output_type": "stream",
     "text": [
      "('제목1',)\n",
      "('제목2',)\n",
      "('제목3',)\n",
      "('제목4',)\n",
      "('제목5',)\n",
      "('제목5',)\n",
      "('제목6',)\n",
      "('제목1',)\n",
      "('제목2',)\n",
      "('제목3',)\n",
      "('제목4',)\n"
     ]
    }
   ],
   "source": [
    "select_news('title')"
   ]
  },
  {
   "cell_type": "code",
   "execution_count": null,
   "metadata": {},
   "outputs": [],
   "source": []
  }
 ],
 "metadata": {
  "kernelspec": {
   "display_name": "project",
   "language": "python",
   "name": "python3"
  },
  "language_info": {
   "codemirror_mode": {
    "name": "ipython",
    "version": 3
   },
   "file_extension": ".py",
   "mimetype": "text/x-python",
   "name": "python",
   "nbconvert_exporter": "python",
   "pygments_lexer": "ipython3",
   "version": "3.11.9"
  }
 },
 "nbformat": 4,
 "nbformat_minor": 2
}
